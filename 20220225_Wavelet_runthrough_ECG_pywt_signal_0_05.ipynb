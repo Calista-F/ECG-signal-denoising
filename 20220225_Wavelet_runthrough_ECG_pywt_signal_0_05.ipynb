{
  "nbformat": 4,
  "nbformat_minor": 0,
  "metadata": {
    "colab": {
      "name": "20220225 Wavelet runthrough ECG pywt signal 0-05.ipynb",
      "provenance": [],
      "collapsed_sections": [],
      "mount_file_id": "1Dzs2oPNvy0ila88gSlFthJhpeodX4aYY",
      "authorship_tag": "ABX9TyMZvVZHXlF/tsaMWLzG/rPg",
      "include_colab_link": true
    },
    "kernelspec": {
      "name": "python3",
      "display_name": "Python 3"
    },
    "language_info": {
      "name": "python"
    }
  },
  "cells": [
    {
      "cell_type": "markdown",
      "metadata": {
        "id": "view-in-github",
        "colab_type": "text"
      },
      "source": [
        "<a href=\"https://colab.research.google.com/github/Calista-F/ECG-signal-denoising/blob/main/20220225_Wavelet_runthrough_ECG_pywt_signal_0_05.ipynb\" target=\"_parent\"><img src=\"https://colab.research.google.com/assets/colab-badge.svg\" alt=\"Open In Colab\"/></a>"
      ]
    },
    {
      "cell_type": "code",
      "metadata": {
        "id": "wVNfRB4dH5qu"
      },
      "source": [
        "import numpy as np\n",
        "import pywt\n",
        "from skimage.restoration import denoise_wavelet\n",
        "import matplotlib.pyplot as plt\n",
        "import pandas as pd\n",
        "from math import log10, sqrt\n",
        "import cv2\n",
        "import numpy as np"
      ],
      "execution_count": 1,
      "outputs": []
    },
    {
      "cell_type": "code",
      "metadata": {
        "id": "Bsu-EBO6-zRr"
      },
      "source": [
        "from sklearn.metrics import  mean_squared_error, mean_absolute_error, max_error\n",
        "import math\n",
        "\n",
        "def get_rmse(y_target, y_computed):\n",
        "  RMSE = mean_squared_error(y_target, y_computed, squared=False)\n",
        "  return RMSE"
      ],
      "execution_count": 2,
      "outputs": []
    },
    {
      "cell_type": "code",
      "source": [
        "def get_min_rmse(df):\n",
        "  return df[df['RMSE'] == df['RMSE'].min()]"
      ],
      "metadata": {
        "id": "fV-3bVJLgIwk"
      },
      "execution_count": 3,
      "outputs": []
    },
    {
      "cell_type": "code",
      "source": [
        "def signaltonoise(a, axis=0, ddof=0):\n",
        "    a = np.asanyarray(a)\n",
        "    m = a.mean(axis)\n",
        "    sd = a.std(axis=axis, ddof=ddof)\n",
        "    return np.where(sd == 0, 0, m/sd)"
      ],
      "metadata": {
        "id": "SW_0lrFWhIof"
      },
      "execution_count": 4,
      "outputs": []
    },
    {
      "cell_type": "code",
      "source": [
        "from scipy.misc import electrocardiogram"
      ],
      "metadata": {
        "id": "6Ojd48HEfSI7"
      },
      "execution_count": 5,
      "outputs": []
    },
    {
      "cell_type": "markdown",
      "source": [
        "##Sigma =0.05"
      ],
      "metadata": {
        "id": "O1DzxEvFm2U1"
      }
    },
    {
      "cell_type": "code",
      "source": [
        "signaltonoise(x_noisy)"
      ],
      "metadata": {
        "colab": {
          "base_uri": "https://localhost:8080/"
        },
        "id": "23YWFVtiyHW4",
        "outputId": "c2ca7a7e-0597-433c-fe9c-456ffaff51e7"
      },
      "execution_count": 17,
      "outputs": [
        {
          "output_type": "execute_result",
          "data": {
            "text/plain": [
              "array(-1.34785713)"
            ]
          },
          "metadata": {},
          "execution_count": 17
        }
      ]
    },
    {
      "cell_type": "code",
      "source": [
        "np.mean(x)"
      ],
      "metadata": {
        "colab": {
          "base_uri": "https://localhost:8080/"
        },
        "id": "VXKVwDCZycJx",
        "outputId": "49745c44-17f5-4b52-f0db-85bb989148d0"
      },
      "execution_count": 18,
      "outputs": [
        {
          "output_type": "execute_result",
          "data": {
            "text/plain": [
              "-0.219940185546875"
            ]
          },
          "metadata": {},
          "execution_count": 18
        }
      ]
    },
    {
      "cell_type": "code",
      "source": [
        "np.mean(x_noisy)"
      ],
      "metadata": {
        "colab": {
          "base_uri": "https://localhost:8080/"
        },
        "id": "GgbLCtd4ygVs",
        "outputId": "5fa1daa4-7a99-45a9-c3d2-c7d83de06b45"
      },
      "execution_count": 19,
      "outputs": [
        {
          "output_type": "execute_result",
          "data": {
            "text/plain": [
              "-0.21859423085109406"
            ]
          },
          "metadata": {},
          "execution_count": 19
        }
      ]
    },
    {
      "cell_type": "code",
      "source": [
        "np.std(x[300:440])"
      ],
      "metadata": {
        "colab": {
          "base_uri": "https://localhost:8080/"
        },
        "id": "DB4J1fhMyk_9",
        "outputId": "7d67718a-728c-4b48-df09-3fd60ec19b50"
      },
      "execution_count": 25,
      "outputs": [
        {
          "output_type": "execute_result",
          "data": {
            "text/plain": [
              "0.03315092638751392"
            ]
          },
          "metadata": {},
          "execution_count": 25
        }
      ]
    },
    {
      "cell_type": "code",
      "source": [
        "np.std(x_noisy[300:440])"
      ],
      "metadata": {
        "colab": {
          "base_uri": "https://localhost:8080/"
        },
        "id": "Vf1Faa6Hym5m",
        "outputId": "52f25361-f5c2-40cf-9818-c5369ea863e8"
      },
      "execution_count": 27,
      "outputs": [
        {
          "output_type": "execute_result",
          "data": {
            "text/plain": [
              "0.06011798688789361"
            ]
          },
          "metadata": {},
          "execution_count": 27
        }
      ]
    },
    {
      "cell_type": "code",
      "source": [
        "x = pywt.data.ecg().astype(float)/256\n",
        "\n",
        "sigma = 0.05\n",
        "x_noisy = x + sigma * np.random.randn(x.size)\n",
        "#seed it\n",
        "\n",
        "\n",
        "#DENOISING\n",
        "##########\n",
        "#x_denoised = denoise_wavelet(x_noisy, method = 'BayesShrink', mode ='soft', wavelet_levels = 3, wavelet = 'sym8', rescale_sigma = 'True')"
      ],
      "metadata": {
        "id": "6My_kIskf3cc"
      },
      "execution_count": 6,
      "outputs": []
    },
    {
      "cell_type": "code",
      "source": [
        "noisy_norm_df = pd.DataFrame(x_noisy)\n",
        "signal_norm_df = pd.DataFrame(x)\n",
        "plt.plot(noisy_norm_df)\n",
        "plt.plot(signal_norm_df)\n",
        "plt.ylim(-0.6,0.1)"
      ],
      "metadata": {
        "colab": {
          "base_uri": "https://localhost:8080/",
          "height": 286
        },
        "id": "m7vhdbZkfRry",
        "outputId": "d8a23307-4acf-4595-cbca-f2ef7702326f"
      },
      "execution_count": 28,
      "outputs": [
        {
          "output_type": "execute_result",
          "data": {
            "text/plain": [
              "(-0.6, 0.1)"
            ]
          },
          "metadata": {},
          "execution_count": 28
        },
        {
          "output_type": "display_data",
          "data": {
            "image/png": "[encoded data removed]",
            "text/plain": [
              "<Figure size 432x288 with 1 Axes>"
            ]
          },
          "metadata": {
            "needs_background": "light"
          }
        }
      ]
    },
    {
      "cell_type": "code",
      "source": [
        "num = np.sum(x_noisy**2)\n",
        "den = np.sum((x_noisy-x)**2)\n",
        "snr = 10* np.log10(num/den)\n",
        "print(num, den)\n",
        "print(snr)"
      ],
      "metadata": {
        "colab": {
          "base_uri": "https://localhost:8080/"
        },
        "id": "IMjhXdSn0cpD",
        "outputId": "7b008db3-1c6e-4b2b-9a70-c08bdba7a376"
      },
      "execution_count": 24,
      "outputs": [
        {
          "output_type": "stream",
          "name": "stdout",
          "text": [
            "75.86354376019409 2.861560622394591\n",
            "14.234301748265283\n"
          ]
        }
      ]
    },
    {
      "cell_type": "code",
      "source": [
        "snr = 10 * np.log()"
      ],
      "metadata": {
        "id": "ApnXRtPs0QF2"
      },
      "execution_count": null,
      "outputs": []
    },
    {
      "cell_type": "code",
      "source": [
        "metrics = ['RMSE','MAE','MAX']\n",
        "wavelets = ['sym5','db13','coif1']\n",
        "sym_wavelets = ['sym'+str(i) for i in range(2,21)]\n",
        "db_wavelets = ['db'+str(i) for i in range(1,39)]\n",
        "coif_wavelets = ['coif'+str(i) for i in range(1,18)]\n",
        "levels = np.arange(1,5,1)\n",
        "methods = ['BayesShrink','VisuShrink']\n",
        "indexcol = ['RMSE','MAE','MAX']\n",
        "\n",
        "signalno = 'signal 60'\n",
        "signaldistance = '5 kpc'"
      ],
      "metadata": {
        "id": "WAvmyHgM-8vU"
      },
      "execution_count": 8,
      "outputs": []
    },
    {
      "cell_type": "markdown",
      "source": [
        "Create a main list that appends each line and each metric result"
      ],
      "metadata": {
        "id": "o6TcXTThU-CR"
      }
    },
    {
      "cell_type": "code",
      "source": [
        "main_list = []\n",
        "\n",
        "for m in methods:\n",
        "  cols = []\n",
        "  for i in range(len(sym_wavelets)):\n",
        "    for l in range(len(levels)):\n",
        "      #Make a dataframe for the denoised signal of the noisy normalized signal\n",
        "      denoised_df = pd.DataFrame(denoise_wavelet(x_noisy, method = m, mode ='hard', wavelet = sym_wavelets[i], wavelet_levels = levels[l], rescale_sigma = 'True'))\n",
        "      \n",
        "      #Create col1- a list that contains the signal properties (which signal template was used), denoising properties, and denoising performance metrics\n",
        "      col1 = [str(m).upper() +', '+ sym_wavelets[i] + ' level ' + str(levels[l])] \n",
        "      col1.append(get_rmse(signal_norm_df, denoised_df))\n",
        "      col1.append(mean_absolute_error(signal_norm_df, denoised_df))\n",
        "      col1.append(max_error(signal_norm_df, denoised_df))\n",
        "\n",
        "      #append this column to cols- a list of columns for the table \n",
        "      cols.append(col1)\n",
        "  main_list.append(cols)\n",
        "\n",
        "  main_array = np.array(main_list)"
      ],
      "metadata": {
        "id": "NzcdRmAhhIGn"
      },
      "execution_count": 9,
      "outputs": []
    },
    {
      "cell_type": "code",
      "source": [
        "def denoising_metrics(wavelet_family, max_level):\n",
        "\n",
        "  main_list = []\n",
        "  for m in methods:\n",
        "    cols = []\n",
        "    for i in range(len(wavelet_family)):\n",
        "      for l in range(len(np.arange(1,max_level,1))):\n",
        "        #Make a dataframe for the denoised signal of the noisy normalized signal\n",
        "        denoised_df = pd.DataFrame(denoise_wavelet(x_noisy, method = m, mode ='hard', wavelet = wavelet_family[i], wavelet_levels = np.arange(1,max_level,1)[l], rescale_sigma = 'True'))\n",
        "        \n",
        "        #Create col1- a list that contains the signal properties (which signal template was used), denoising properties, and denoising performance metrics\n",
        "        col1 = [str(m).upper() +', '+ wavelet_family[i] + ' level ' + str(levels[l])] \n",
        "        col1.append(get_rmse(signal_norm_df, denoised_df))\n",
        "        col1.append(mean_absolute_error(signal_norm_df, denoised_df))\n",
        "        col1.append(max_error(signal_norm_df, denoised_df))\n",
        "\n",
        "        #append this column to cols- a list of columns for the table \n",
        "        cols.append(col1)\n",
        "    main_list.append(cols)\n",
        "  return np.array(main_list)"
      ],
      "metadata": {
        "id": "uOJoZ5gn61zZ"
      },
      "execution_count": 10,
      "outputs": []
    },
    {
      "cell_type": "code",
      "source": [
        "type(main_list)"
      ],
      "metadata": {
        "colab": {
          "base_uri": "https://localhost:8080/"
        },
        "id": "AM79dfzHlV1C",
        "outputId": "6ac3fdc1-210f-48ca-d40e-b89a70dddbe0"
      },
      "execution_count": 11,
      "outputs": [
        {
          "output_type": "execute_result",
          "data": {
            "text/plain": [
              "list"
            ]
          },
          "metadata": {},
          "execution_count": 11
        }
      ]
    },
    {
      "cell_type": "code",
      "source": [
        "df_minrmse = pd.DataFrame()"
      ],
      "metadata": {
        "id": "G_0zy4v5yRh5"
      },
      "execution_count": 12,
      "outputs": []
    },
    {
      "cell_type": "markdown",
      "source": [
        "Symlet wavelet"
      ],
      "metadata": {
        "id": "FZv8_phMCsux"
      }
    },
    {
      "cell_type": "code",
      "source": [
        "symlet_array = denoising_metrics(sym_wavelets, 5)\n",
        "BayesSymdf = pd.DataFrame(data = symlet_array[0,:,1:], columns = metrics, index = symlet_array[0,:,0])\n",
        "df_minrmse = df_minrmse.append(get_min_rmse(BayesSymdf))\n",
        "\n",
        "\n",
        "VisuSymdf = pd.DataFrame(data = symlet_array[1,:,1:], columns = metrics, index = symlet_array[1,:,0])\n",
        "df_minrmse = df_minrmse.append(get_min_rmse(VisuSymdf))"
      ],
      "metadata": {
        "id": "hk_bQRXQ7gGm"
      },
      "execution_count": 13,
      "outputs": []
    },
    {
      "cell_type": "markdown",
      "source": [
        "Daubechies wavelet"
      ],
      "metadata": {
        "id": "bXRgwRu1DSto"
      }
    },
    {
      "cell_type": "code",
      "source": [
        "db_array = denoising_metrics(db_wavelets,4)\n",
        "BayesDbdf = pd.DataFrame(data = db_array[0,:,1:], columns = metrics, index = db_array[0,:,0])\n",
        "df_minrmse = df_minrmse.append(get_min_rmse(BayesDbdf))\n",
        "VisuDbdf = pd.DataFrame(data = db_array[1,:,1:], columns = metrics, index = db_array[1,:,0])\n",
        "df_minrmse = df_minrmse.append(get_min_rmse(VisuDbdf))"
      ],
      "metadata": {
        "id": "H9GrtHkLjMnv"
      },
      "execution_count": 14,
      "outputs": []
    },
    {
      "cell_type": "markdown",
      "source": [
        "Coiflet wavelet"
      ],
      "metadata": {
        "id": "SGjikRVlDXaB"
      }
    },
    {
      "cell_type": "code",
      "source": [
        "coif_array = denoising_metrics(coif_wavelets,4)\n",
        "coif_array.shape\n",
        "Bayescoifdf = pd.DataFrame(data = coif_array[0,:,1:], columns = metrics, index = coif_array[0,:,0])\n",
        "df_minrmse = df_minrmse.append(get_min_rmse(Bayescoifdf))\n",
        "Visucoifdf = pd.DataFrame(data = coif_array[1,:,1:], columns = metrics, index = coif_array[1,:,0])\n",
        "df_minrmse = df_minrmse.append(get_min_rmse(Visucoifdf))"
      ],
      "metadata": {
        "id": "fzy2Srt48gs7"
      },
      "execution_count": 15,
      "outputs": []
    },
    {
      "cell_type": "markdown",
      "source": [
        "Minimum RMSEs per threshold method and wavelet family"
      ],
      "metadata": {
        "id": "qMzs8ierDZgB"
      }
    },
    {
      "cell_type": "code",
      "source": [
        "df_minrmse"
      ],
      "metadata": {
        "colab": {
          "base_uri": "https://localhost:8080/",
          "height": 238
        },
        "id": "COm71SEKCQTu",
        "outputId": "8921d9ad-4a35-4676-954f-6609ef1d0c59"
      },
      "execution_count": 16,
      "outputs": [
        {
          "output_type": "execute_result",
          "data": {
            "text/html": [
              "\n",
              "  <div id=\"df-9ae683c5-c7d2-4831-8b85-dd089e1a52b1\">\n",
              "    <div class=\"colab-df-container\">\n",
              "      <div>\n",
              "<style scoped>\n",
              "    .dataframe tbody tr th:only-of-type {\n",
              "        vertical-align: middle;\n",
              "    }\n",
              "\n",
              "    .dataframe tbody tr th {\n",
              "        vertical-align: top;\n",
              "    }\n",
              "\n",
              "    .dataframe thead th {\n",
              "        text-align: right;\n",
              "    }\n",
              "</style>\n",
              "<table border=\"1\" class=\"dataframe\">\n",
              "  <thead>\n",
              "    <tr style=\"text-align: right;\">\n",
              "      <th></th>\n",
              "      <th>RMSE</th>\n",
              "      <th>MAE</th>\n",
              "      <th>MAX</th>\n",
              "    </tr>\n",
              "  </thead>\n",
              "  <tbody>\n",
              "    <tr>\n",
              "      <th>BAYESSHRINK, sym9 level 3</th>\n",
              "      <td>0.030797447618299098</td>\n",
              "      <td>0.023589038798670567</td>\n",
              "      <td>0.12011323733098156</td>\n",
              "    </tr>\n",
              "    <tr>\n",
              "      <th>VISUSHRINK, sym13 level 4</th>\n",
              "      <td>0.02255056767987673</td>\n",
              "      <td>0.016059265788276874</td>\n",
              "      <td>0.12649734382212274</td>\n",
              "    </tr>\n",
              "    <tr>\n",
              "      <th>BAYESSHRINK, db8 level 3</th>\n",
              "      <td>0.033992867471035346</td>\n",
              "      <td>0.026593464619195897</td>\n",
              "      <td>0.13380410237413293</td>\n",
              "    </tr>\n",
              "    <tr>\n",
              "      <th>VISUSHRINK, db5 level 3</th>\n",
              "      <td>0.0235075232421177</td>\n",
              "      <td>0.017517738277759865</td>\n",
              "      <td>0.12517836629852622</td>\n",
              "    </tr>\n",
              "    <tr>\n",
              "      <th>BAYESSHRINK, coif3 level 3</th>\n",
              "      <td>0.035116590113176624</td>\n",
              "      <td>0.026987667646226447</td>\n",
              "      <td>0.1259127195796096</td>\n",
              "    </tr>\n",
              "    <tr>\n",
              "      <th>VISUSHRINK, coif3 level 3</th>\n",
              "      <td>0.022473928790878322</td>\n",
              "      <td>0.017247855489467778</td>\n",
              "      <td>0.11145658753850957</td>\n",
              "    </tr>\n",
              "  </tbody>\n",
              "</table>\n",
              "</div>\n",
              "      <button class=\"colab-df-convert\" onclick=\"convertToInteractive('df-9ae683c5-c7d2-4831-8b85-dd089e1a52b1')\"\n",
              "              title=\"Convert this dataframe to an interactive table.\"\n",
              "              style=\"display:none;\">\n",
              "        \n",
              "  <svg xmlns=\"http://www.w3.org/2000/svg\" height=\"24px\"viewBox=\"0 0 24 24\"\n",
              "       width=\"24px\">\n",
              "    <path d=\"M0 0h24v24H0V0z\" fill=\"none\"/>\n",
              "    <path d=\"M18.56 5.44l.94 2.06.94-2.06 2.06-.94-2.06-.94-.94-2.06-.94 2.06-2.06.94zm-11 1L8.5 8.5l.94-2.06 2.06-.94-2.06-.94L8.5 2.5l-.94 2.06-2.06.94zm10 10l.94 2.06.94-2.06 2.06-.94-2.06-.94-.94-2.06-.94 2.06-2.06.94z\"/><path d=\"M17.41 7.96l-1.37-1.37c-.4-.4-.92-.59-1.43-.59-.52 0-1.04.2-1.43.59L10.3 9.45l-7.72 7.72c-.78.78-.78 2.05 0 2.83L4 21.41c.39.39.9.59 1.41.59.51 0 1.02-.2 1.41-.59l7.78-7.78 2.81-2.81c.8-.78.8-2.07 0-2.86zM5.41 20L4 18.59l7.72-7.72 1.47 1.35L5.41 20z\"/>\n",
              "  </svg>\n",
              "      </button>\n",
              "      \n",
              "  <style>\n",
              "    .colab-df-container {\n",
              "      display:flex;\n",
              "      flex-wrap:wrap;\n",
              "      gap: 12px;\n",
              "    }\n",
              "\n",
              "    .colab-df-convert {\n",
              "      background-color: #E8F0FE;\n",
              "      border: none;\n",
              "      border-radius: 50%;\n",
              "      cursor: pointer;\n",
              "      display: none;\n",
              "      fill: #1967D2;\n",
              "      height: 32px;\n",
              "      padding: 0 0 0 0;\n",
              "      width: 32px;\n",
              "    }\n",
              "\n",
              "    .colab-df-convert:hover {\n",
              "      background-color: #E2EBFA;\n",
              "      box-shadow: 0px 1px 2px rgba(60, 64, 67, 0.3), 0px 1px 3px 1px rgba(60, 64, 67, 0.15);\n",
              "      fill: #174EA6;\n",
              "    }\n",
              "\n",
              "    [theme=dark] .colab-df-convert {\n",
              "      background-color: #3B4455;\n",
              "      fill: #D2E3FC;\n",
              "    }\n",
              "\n",
              "    [theme=dark] .colab-df-convert:hover {\n",
              "      background-color: #434B5C;\n",
              "      box-shadow: 0px 1px 3px 1px rgba(0, 0, 0, 0.15);\n",
              "      filter: drop-shadow(0px 1px 2px rgba(0, 0, 0, 0.3));\n",
              "      fill: #FFFFFF;\n",
              "    }\n",
              "  </style>\n",
              "\n",
              "      <script>\n",
              "        const buttonEl =\n",
              "          document.querySelector('#df-9ae683c5-c7d2-4831-8b85-dd089e1a52b1 button.colab-df-convert');\n",
              "        buttonEl.style.display =\n",
              "          google.colab.kernel.accessAllowed ? 'block' : 'none';\n",
              "\n",
              "        async function convertToInteractive(key) {\n",
              "          const element = document.querySelector('#df-9ae683c5-c7d2-4831-8b85-dd089e1a52b1');\n",
              "          const dataTable =\n",
              "            await google.colab.kernel.invokeFunction('convertToInteractive',\n",
              "                                                     [key], {});\n",
              "          if (!dataTable) return;\n",
              "\n",
              "          const docLinkHtml = 'Like what you see? Visit the ' +\n",
              "            '<a target=\"_blank\" href=https://colab.research.google.com/notebooks/data_table.ipynb>data table notebook</a>'\n",
              "            + ' to learn more about interactive tables.';\n",
              "          element.innerHTML = '';\n",
              "          dataTable['output_type'] = 'display_data';\n",
              "          await google.colab.output.renderOutput(dataTable, element);\n",
              "          const docLink = document.createElement('div');\n",
              "          docLink.innerHTML = docLinkHtml;\n",
              "          element.appendChild(docLink);\n",
              "        }\n",
              "      </script>\n",
              "    </div>\n",
              "  </div>\n",
              "  "
            ],
            "text/plain": [
              "                                            RMSE  ...                  MAX\n",
              "BAYESSHRINK, sym9 level 3   0.030797447618299098  ...  0.12011323733098156\n",
              "VISUSHRINK, sym13 level 4    0.02255056767987673  ...  0.12649734382212274\n",
              "BAYESSHRINK, db8 level 3    0.033992867471035346  ...  0.13380410237413293\n",
              "VISUSHRINK, db5 level 3       0.0235075232421177  ...  0.12517836629852622\n",
              "BAYESSHRINK, coif3 level 3  0.035116590113176624  ...   0.1259127195796096\n",
              "VISUSHRINK, coif3 level 3   0.022473928790878322  ...  0.11145658753850957\n",
              "\n",
              "[6 rows x 3 columns]"
            ]
          },
          "metadata": {},
          "execution_count": 16
        }
      ]
    }
  ]
}